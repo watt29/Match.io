{
  "nbformat": 4,
  "nbformat_minor": 0,
  "metadata": {
    "colab": {
      "provenance": [],
      "authorship_tag": "ABX9TyMFgk2yi37eTcLzG2sQrxYy",
      "include_colab_link": true
    },
    "kernelspec": {
      "name": "python3",
      "display_name": "Python 3"
    },
    "language_info": {
      "name": "python"
    }
  },
  "cells": [
    {
      "cell_type": "markdown",
      "metadata": {
        "id": "view-in-github",
        "colab_type": "text"
      },
      "source": [
        "<a href=\"https://colab.research.google.com/github/watt29/Match.io/blob/main/readpdf.ipynb\" target=\"_parent\"><img src=\"https://colab.research.google.com/assets/colab-badge.svg\" alt=\"Open In Colab\"/></a>"
      ]
    },
    {
      "cell_type": "code",
      "execution_count": 5,
      "metadata": {
        "colab": {
          "base_uri": "https://localhost:8080/"
        },
        "id": "Oa2zVEspB8bE",
        "outputId": "b762d42f-3214-42d6-87cd-39fb6852b877"
      },
      "outputs": [
        {
          "output_type": "stream",
          "name": "stdout",
          "text": [
            "ไม่พบไฟล์ที่ระบุ: C:\\Users\\Lenovo\\Desktop\\aa.pdf\n"
          ]
        }
      ],
      "source": [
        "import fitz  # PyMuPDF\n",
        "import os\n",
        "\n",
        "# ระบุที่อยู่ของไฟล์ PDF\n",
        "file_path = r'C:\\Users\\Lenovo\\Desktop\\aa.pdf'\n",
        "\n",
        "# ตรวจสอบว่าไฟล์มีอยู่จริง\n",
        "if os.path.exists(file_path):\n",
        "    try:\n",
        "        # เปิดไฟล์ PDF\n",
        "        pdf_document = fitz.open(file_path)\n",
        "        text = \"\"\n",
        "\n",
        "        # อ่านแต่ละหน้าของ PDF\n",
        "        for page_num in range(len(pdf_document)):\n",
        "            page = pdf_document[page_num]\n",
        "            text += page.get_text()  # ดึงข้อความจากหน้า\n",
        "\n",
        "        # ปิดเอกสาร PDF\n",
        "        pdf_document.close()\n",
        "\n",
        "        # แสดงเนื้อหาที่อ่านได้\n",
        "        print(text)\n",
        "\n",
        "    except Exception as e:\n",
        "        print(f\"เกิดข้อผิดพลาด: {e}\")\n",
        "else:\n",
        "    print(f\"ไม่พบไฟล์ที่ระบุ: {file_path}\")\n"
      ]
    },
    {
      "cell_type": "code",
      "source": [
        "pip install PyMuPDF"
      ],
      "metadata": {
        "colab": {
          "base_uri": "https://localhost:8080/"
        },
        "id": "-DfmgKgUCOXG",
        "outputId": "20fbd6d6-ba83-4528-84e3-c8b4d6d324cf"
      },
      "execution_count": 2,
      "outputs": [
        {
          "output_type": "stream",
          "name": "stdout",
          "text": [
            "Collecting PyMuPDF\n",
            "  Downloading PyMuPDF-1.24.10-cp310-none-manylinux2014_x86_64.whl.metadata (3.4 kB)\n",
            "Collecting PyMuPDFb==1.24.10 (from PyMuPDF)\n",
            "  Downloading PyMuPDFb-1.24.10-py3-none-manylinux2014_x86_64.manylinux_2_17_x86_64.whl.metadata (1.4 kB)\n",
            "Downloading PyMuPDF-1.24.10-cp310-none-manylinux2014_x86_64.whl (3.5 MB)\n",
            "\u001b[2K   \u001b[90m━━━━━━━━━━━━━━━━━━━━━━━━━━━━━━━━━━━━━━━━\u001b[0m \u001b[32m3.5/3.5 MB\u001b[0m \u001b[31m26.3 MB/s\u001b[0m eta \u001b[36m0:00:00\u001b[0m\n",
            "\u001b[?25hDownloading PyMuPDFb-1.24.10-py3-none-manylinux2014_x86_64.manylinux_2_17_x86_64.whl (15.9 MB)\n",
            "\u001b[2K   \u001b[90m━━━━━━━━━━━━━━━━━━━━━━━━━━━━━━━━━━━━━━━━\u001b[0m \u001b[32m15.9/15.9 MB\u001b[0m \u001b[31m90.2 MB/s\u001b[0m eta \u001b[36m0:00:00\u001b[0m\n",
            "\u001b[?25hInstalling collected packages: PyMuPDFb, PyMuPDF\n",
            "Successfully installed PyMuPDF-1.24.10 PyMuPDFb-1.24.10\n"
          ]
        }
      ]
    }
  ]
}